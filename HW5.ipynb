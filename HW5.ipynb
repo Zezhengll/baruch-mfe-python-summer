{
 "cells": [
  {
   "cell_type": "markdown",
   "metadata": {},
   "source": [
    "## Q1 K-th Largest Number"
   ]
  },
  {
   "cell_type": "code",
   "execution_count": 1,
   "metadata": {},
   "outputs": [],
   "source": [
    "import heapq\n",
    "def find_Kth_Largest(nums, k):     \n",
    "        if k>len(nums):\n",
    "            print('The k is out of range')\n",
    "            return None\n",
    "        h = []\n",
    "        for e in nums:\n",
    "            heapq.heappush(h,  e)#O(nlogn)\n",
    "        for i in range(len(nums)-k):\n",
    "            heapq.heappop(h)#(klogn)\n",
    "        return heapq.heappop(h)"
   ]
  },
  {
   "cell_type": "code",
   "execution_count": 2,
   "metadata": {
    "scrolled": true
   },
   "outputs": [
    {
     "data": {
      "text/plain": [
       "3"
      ]
     },
     "execution_count": 2,
     "metadata": {},
     "output_type": "execute_result"
    }
   ],
   "source": [
    "Test1 = [3,5,2,1,4] # Normal and simple case\n",
    "find_Kth_Largest(Test1, 3)"
   ]
  },
  {
   "cell_type": "code",
   "execution_count": 3,
   "metadata": {
    "scrolled": true
   },
   "outputs": [
    {
     "name": "stdout",
     "output_type": "stream",
     "text": [
      "The k is out of range\n"
     ]
    }
   ],
   "source": [
    "find_Kth_Largest(Test1, 10) # Out range error Test"
   ]
  },
  {
   "cell_type": "code",
   "execution_count": 4,
   "metadata": {},
   "outputs": [
    {
     "data": {
      "text/plain": [
       "3"
      ]
     },
     "execution_count": 4,
     "metadata": {},
     "output_type": "execute_result"
    }
   ],
   "source": [
    "Test2 = [2,3,3,4,1,1,7,4,4] # with duplicates\n",
    "find_Kth_Largest(Test2, 5) # Out range error Test"
   ]
  },
  {
   "cell_type": "code",
   "execution_count": 5,
   "metadata": {},
   "outputs": [
    {
     "name": "stdout",
     "output_type": "stream",
     "text": [
      "3\n",
      "3\n"
     ]
    }
   ],
   "source": [
    "Test3 = [2,3,4,3,2] \n",
    "print(find_Kth_Largest(Test3, 2)) # when k-th = (k+1)-th\n",
    "print(find_Kth_Largest(Test3, 3)) # when k-th = (k-1)-th\n"
   ]
  },
  {
   "cell_type": "markdown",
   "metadata": {},
   "source": [
    "Over all complexity is O(nlogn)"
   ]
  },
  {
   "cell_type": "markdown",
   "metadata": {},
   "source": [
    "## Q2 Multithreading"
   ]
  },
  {
   "cell_type": "code",
   "execution_count": 6,
   "metadata": {},
   "outputs": [],
   "source": [
    "import queue\n",
    "def GetQueue(n):\n",
    "    q = queue.Queue()\n",
    "    for i in range(n):\n",
    "        q.put(i)\n",
    "    return q\n",
    "\n",
    "N = 10000"
   ]
  },
  {
   "cell_type": "code",
   "execution_count": 7,
   "metadata": {},
   "outputs": [],
   "source": [
    "import threading \n",
    "import time \n",
    "\n",
    "def Process():\n",
    "    while True:\n",
    "        #print(q.get())\n",
    "        q.get()\n",
    "        time.sleep(0.001) # to mimic heavy work"
   ]
  },
  {
   "cell_type": "code",
   "execution_count": 8,
   "metadata": {},
   "outputs": [],
   "source": [
    "def Multithreading(q,k): # q is the queue, k is the number of worker\n",
    "    for index in range(k):#create k multithreadings\n",
    "        thrd = threading.Thread(target = Process)\n",
    "        thrd.start()"
   ]
  },
  {
   "cell_type": "code",
   "execution_count": 9,
   "metadata": {
    "scrolled": true
   },
   "outputs": [
    {
     "name": "stdout",
     "output_type": "stream",
     "text": [
      "Wall time: 1 ms\n"
     ]
    }
   ],
   "source": [
    "q = GetQueue(N)\n",
    "%time Multithreading(q,1)\n"
   ]
  },
  {
   "cell_type": "code",
   "execution_count": 10,
   "metadata": {
    "scrolled": true
   },
   "outputs": [
    {
     "name": "stdout",
     "output_type": "stream",
     "text": [
      "Wall time: 847 µs\n"
     ]
    }
   ],
   "source": [
    "q = GetQueue(N)\n",
    "%time Multithreading(q,5)"
   ]
  },
  {
   "cell_type": "code",
   "execution_count": 11,
   "metadata": {
    "scrolled": true
   },
   "outputs": [
    {
     "name": "stdout",
     "output_type": "stream",
     "text": [
      "Wall time: 4 ms\n"
     ]
    }
   ],
   "source": [
    "q = GetQueue(N)\n",
    "%time Multithreading(q,20)"
   ]
  },
  {
   "cell_type": "markdown",
   "metadata": {},
   "source": [
    "The multithreading in python doesn't prove efficiency, but it is thread safe and no race condition."
   ]
  },
  {
   "cell_type": "code",
   "execution_count": null,
   "metadata": {},
   "outputs": [],
   "source": []
  },
  {
   "cell_type": "code",
   "execution_count": null,
   "metadata": {},
   "outputs": [],
   "source": []
  },
  {
   "cell_type": "code",
   "execution_count": null,
   "metadata": {},
   "outputs": [],
   "source": []
  }
 ],
 "metadata": {
  "kernelspec": {
   "display_name": "Python 3",
   "language": "python",
   "name": "python3"
  },
  "language_info": {
   "codemirror_mode": {
    "name": "ipython",
    "version": 3
   },
   "file_extension": ".py",
   "mimetype": "text/x-python",
   "name": "python",
   "nbconvert_exporter": "python",
   "pygments_lexer": "ipython3",
   "version": "3.7.6"
  }
 },
 "nbformat": 4,
 "nbformat_minor": 4
}
