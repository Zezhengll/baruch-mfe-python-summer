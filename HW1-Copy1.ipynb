{
 "cells": [
  {
   "cell_type": "markdown",
   "metadata": {},
   "source": [
    "# 1 Homework\n",
    "## 1.2 Write a Jupyter Magic"
   ]
  },
  {
   "cell_type": "code",
   "execution_count": 1,
   "metadata": {},
   "outputs": [],
   "source": [
    "from IPython.core.magic import (register_line_magic, register_cell_magic,\n",
    "                                register_line_cell_magic)\n",
    "\n",
    "@register_line_cell_magic\n",
    "def lmagic(line, cell=None):\n",
    "    if cell is None:\n",
    "        return len(line.split())\n",
    "    else:\n",
    "        return len((line + cell).split())"
   ]
  },
  {
   "cell_type": "code",
   "execution_count": 2,
   "metadata": {},
   "outputs": [
    {
     "data": {
      "text/plain": [
       "5"
      ]
     },
     "execution_count": 2,
     "metadata": {},
     "output_type": "execute_result"
    }
   ],
   "source": [
    "%lmagic this is a line magic"
   ]
  },
  {
   "cell_type": "code",
   "execution_count": 3,
   "metadata": {},
   "outputs": [
    {
     "data": {
      "text/plain": [
       "5"
      ]
     },
     "execution_count": 3,
     "metadata": {},
     "output_type": "execute_result"
    }
   ],
   "source": [
    "%%lmagic\n",
    "\n",
    "wow\n",
    "this is a cell"
   ]
  },
  {
   "cell_type": "markdown",
   "metadata": {},
   "source": [
    "## 1.3 Profile the speed of list comprehension vs. for loops"
   ]
  },
  {
   "cell_type": "code",
   "execution_count": 4,
   "metadata": {},
   "outputs": [
    {
     "name": "stdout",
     "output_type": "stream",
     "text": [
      "Wall time: 11 ms\n"
     ]
    }
   ],
   "source": [
    "%%time\n",
    "list = []\n",
    "for i in range(100000):\n",
    "    list.append(i)\n"
   ]
  },
  {
   "cell_type": "code",
   "execution_count": 5,
   "metadata": {
    "scrolled": true
   },
   "outputs": [
    {
     "name": "stdout",
     "output_type": "stream",
     "text": [
      "Wall time: 3 ms\n"
     ]
    }
   ],
   "source": [
    "%time ist2 = [i for i in range(100000)]\n"
   ]
  },
  {
   "cell_type": "markdown",
   "metadata": {},
   "source": [
    "## 1.4 Prime numbers"
   ]
  },
  {
   "cell_type": "code",
   "execution_count": 6,
   "metadata": {
    "scrolled": false
   },
   "outputs": [
    {
     "data": {
      "text/plain": [
       "[2,\n",
       " 3,\n",
       " 5,\n",
       " 7,\n",
       " 11,\n",
       " 13,\n",
       " 17,\n",
       " 19,\n",
       " 23,\n",
       " 29,\n",
       " 31,\n",
       " 37,\n",
       " 41,\n",
       " 43,\n",
       " 47,\n",
       " 53,\n",
       " 59,\n",
       " 61,\n",
       " 67,\n",
       " 71,\n",
       " 73,\n",
       " 79,\n",
       " 83,\n",
       " 89,\n",
       " 97]"
      ]
     },
     "execution_count": 6,
     "metadata": {},
     "output_type": "execute_result"
    }
   ],
   "source": [
    "def prime_num(l:list):\n",
    "     return [x for x in l if x >1 and all(x % z != 0 for z in range(2,x))]\n",
    "prime_num(range(100))"
   ]
  },
  {
   "cell_type": "markdown",
   "metadata": {},
   "source": [
    "## 1.5 Extend the Vector class"
   ]
  },
  {
   "cell_type": "code",
   "execution_count": 7,
   "metadata": {},
   "outputs": [],
   "source": [
    "import numpy as np\n",
    "class nVector:\n",
    "    def __init__(self, *args):\n",
    "        self.data = np.array(args)\n",
    "        self.dim = len(args)\n",
    "        \n",
    "    def __repr__(self):\n",
    "        return f\"nVector{self.data}\"\n",
    "    \n",
    "    def __str__(self):\n",
    "        return f\"{self.data}\"\n",
    "    \n",
    "    def __getitem__(self,key):\n",
    "        if isinstance(key,int):\n",
    "            return self.data[key]\n",
    "        elif isinstance(key,slice):\n",
    "            return nVector(*(self.data[key]))\n",
    "        else:\n",
    "            print(\"wrong input\")\n",
    "            return\n",
    "    def __len__(self):\n",
    "        return self.dim\n",
    "    \n",
    "    def __add__(self,other):\n",
    "        if(self.dim == other.dim):\n",
    "            return nVector(*(self.data+other.data))\n",
    "        else:\n",
    "            print(\"The dimemsion of the two vectors not same!\")\n",
    "            return \n",
    "        \n",
    "    def __sub__(self,other):\n",
    "        if(self.dim == other.dim):\n",
    "            return nVector(*(self.data-other.data))\n",
    "        else:\n",
    "            print(\"The dimemsion of the two vectors not same!\")\n",
    "            return    \n",
    "        \n",
    "        \n",
    "    def __mul__(self,scalar):\n",
    "        return nVector(*(i * scalar for i in self.data))\n",
    "    \n",
    "    def __pow__(self,scalar):\n",
    "        return nVector(*(i ** scalar for i in self.data))\n",
    "        \n",
    "   \n"
   ]
  },
  {
   "cell_type": "code",
   "execution_count": 8,
   "metadata": {},
   "outputs": [
    {
     "name": "stdout",
     "output_type": "stream",
     "text": [
      "[1 2 3 4 5]\n",
      "3\n",
      "[2 3]\n",
      "5\n",
      "[3 4 5 6 7]\n",
      "The dimemsion of the two vectors not same!\n",
      "None\n",
      "[-1  0  1  2  3]\n",
      "[ 5 10 15 20 25]\n",
      "[ 1  4  9 16 25]\n"
     ]
    }
   ],
   "source": [
    "vec = nVector(1,2,3,4,5)\n",
    "vec2 = nVector(2,2,2,2,2)\n",
    "vec3 = nVector(3,3,3)\n",
    "\n",
    "print(vec)\n",
    "\n",
    "print(vec[2])\n",
    "\n",
    "\n",
    "print(vec[1:3])\n",
    "\n",
    "print(len(vec))\n",
    "\n",
    "print(vec+vec2)\n",
    "print(vec+vec3)\n",
    "print(vec-vec2)\n",
    "\n",
    "print(vec*5)\n",
    "print(vec**2)"
   ]
  },
  {
   "cell_type": "markdown",
   "metadata": {},
   "source": [
    "## 1.6 Case-insensitive dictionary"
   ]
  },
  {
   "cell_type": "code",
   "execution_count": 9,
   "metadata": {},
   "outputs": [],
   "source": [
    "class CaseInsensitiveDict(dict):\n",
    "\n",
    "    class Key(str):\n",
    "        def __init__(self, key):\n",
    "            str.__init__(key)\n",
    "        def __hash__(self):\n",
    "            return hash(self.lower())\n",
    "        def __eq__(self, other):\n",
    "            return self.lower() == other.lower()\n",
    "\n",
    "    def __init__(self, data=None):\n",
    "        super(CaseInsensitiveDict, self).__init__()\n",
    "        if data is None:\n",
    "            data = {}\n",
    "        for key, val in data.items():\n",
    "            self[key] = val\n",
    "            \n",
    "    def __contains__(self, key):\n",
    "        key = self.Key(key)\n",
    "        return super(CaseInsensitiveDict, self).__contains__(key)\n",
    "    \n",
    "    def __setitem__(self, key, value):\n",
    "        key = self.Key(key)\n",
    "        super(CaseInsensitiveDict, self).__setitem__(key, value)\n",
    "        \n",
    "    def __getitem__(self, key):\n",
    "        key = self.Key(key)\n",
    "        return super(CaseInsensitiveDict, self).__getitem__(key)"
   ]
  },
  {
   "cell_type": "code",
   "execution_count": 10,
   "metadata": {},
   "outputs": [
    {
     "name": "stdout",
     "output_type": "stream",
     "text": [
      "3\n",
      "4\n",
      "{'A': 4}\n"
     ]
    }
   ],
   "source": [
    "d = CaseInsensitiveDict()\n",
    "d['A'] = 3\n",
    "print(d['a'])\n",
    "\n",
    "d['A'] = 4\n",
    "print(d['a'])\n",
    "\n",
    "print(d)"
   ]
  },
  {
   "cell_type": "code",
   "execution_count": null,
   "metadata": {},
   "outputs": [],
   "source": []
  },
  {
   "cell_type": "code",
   "execution_count": null,
   "metadata": {},
   "outputs": [],
   "source": []
  },
  {
   "cell_type": "code",
   "execution_count": null,
   "metadata": {},
   "outputs": [],
   "source": []
  },
  {
   "cell_type": "code",
   "execution_count": null,
   "metadata": {},
   "outputs": [],
   "source": []
  },
  {
   "cell_type": "code",
   "execution_count": null,
   "metadata": {},
   "outputs": [],
   "source": []
  },
  {
   "cell_type": "code",
   "execution_count": null,
   "metadata": {},
   "outputs": [],
   "source": []
  }
 ],
 "metadata": {
  "kernelspec": {
   "display_name": "Python 3",
   "language": "python",
   "name": "python3"
  },
  "language_info": {
   "codemirror_mode": {
    "name": "ipython",
    "version": 3
   },
   "file_extension": ".py",
   "mimetype": "text/x-python",
   "name": "python",
   "nbconvert_exporter": "python",
   "pygments_lexer": "ipython3",
   "version": "3.7.6"
  }
 },
 "nbformat": 4,
 "nbformat_minor": 4
}
