{
 "cells": [
  {
   "cell_type": "markdown",
   "metadata": {},
   "source": [
    "# HW3\n",
    "\n",
    "1. Read the code below and rewrite it using only numpy functions (without for loop, if-else statements). Benchmark your implementation. How much is it faster than the naive python implementation? (hint: use np.isin)"
   ]
  },
  {
   "cell_type": "code",
   "execution_count": 43,
   "metadata": {},
   "outputs": [],
   "source": [
    "def func1(names,db):\n",
    "    idx = []\n",
    "    for i in names: \n",
    "        if i in db:\n",
    "            idx.append(db.index(i))\n",
    "    return idx"
   ]
  },
  {
   "cell_type": "code",
   "execution_count": 44,
   "metadata": {},
   "outputs": [],
   "source": [
    "import numpy as np\n",
    "def func2 (names,db):\n",
    "    return np.arange(len(db))[np.isin(db,names)] \n"
   ]
  },
  {
   "cell_type": "code",
   "execution_count": 51,
   "metadata": {
    "scrolled": true
   },
   "outputs": [
    {
     "name": "stdout",
     "output_type": "stream",
     "text": [
      "9.72 µs ± 59.1 ns per loop (mean ± std. dev. of 7 runs, 100000 loops each)\n",
      "78.5 µs ± 226 ns per loop (mean ± std. dev. of 7 runs, 10000 loops each)\n"
     ]
    }
   ],
   "source": [
    "names = range(30,100)\n",
    "db = range(50,70)\n",
    "%timeit func1(names,db)\n",
    "%timeit func2(names,db)\n"
   ]
  },
  {
   "cell_type": "markdown",
   "metadata": {},
   "source": [
    "2.Use only numpy functions (without for loop, if-else statements) to find the largest 3 distances between points if either points is inside the circle of raidus r0. Then return these points."
   ]
  },
  {
   "cell_type": "code",
   "execution_count": 119,
   "metadata": {},
   "outputs": [],
   "source": [
    "def search_pairs(coordinates, cirle_r0):\n",
    "    points_in_circle = np.linalg.norm(coordinates, axis=1)<= cirle_r0\n",
    "    pair_dis = np.linalg.norm(coordinates[:, np.newaxis, :] - coordinates, axis=2)\n",
    "    pair_dis = np.tril(pair_dis,k=-1)\n",
    "    mask_r0 = points_in_circle[:, np.newaxis] ^ points_in_circle\n",
    "    \n",
    "    #get the distances of valid points\n",
    "    mask = np.tril(points_in_circle[: , np.newaxis] ^ points_in_circle, k = -1)\n",
    "    valid_points = pair_dis[mask]\n",
    "    \n",
    "    sort_dis = np.sort(valid_points)[-3:]\n",
    "    index = np.where(np.isin(pair_dis, sort_dis))\n",
    "    return np.transpose(index)\n",
    "    "
   ]
  },
  {
   "cell_type": "code",
   "execution_count": 121,
   "metadata": {},
   "outputs": [
    {
     "name": "stdout",
     "output_type": "stream",
     "text": [
      "[[2 1]\n",
      " [3 0]\n",
      " [3 1]]\n"
     ]
    }
   ],
   "source": [
    "coordinates = np.array([[0.968, 0.313],\n",
    "                        [0.692, 0.876],\n",
    "                        [0.895, 0.085],\n",
    "                        [0.039, 0.17 ],\n",
    "                        [0.878, 0.098]])\n",
    "cirle_r0 = 0.9\n",
    "print(search_pairs(coordinates, cirle_r0))"
   ]
  },
  {
   "cell_type": "code",
   "execution_count": null,
   "metadata": {},
   "outputs": [],
   "source": []
  },
  {
   "cell_type": "code",
   "execution_count": null,
   "metadata": {},
   "outputs": [],
   "source": []
  },
  {
   "cell_type": "code",
   "execution_count": null,
   "metadata": {},
   "outputs": [],
   "source": []
  }
 ],
 "metadata": {
  "kernelspec": {
   "display_name": "Python 3",
   "language": "python",
   "name": "python3"
  },
  "language_info": {
   "codemirror_mode": {
    "name": "ipython",
    "version": 3
   },
   "file_extension": ".py",
   "mimetype": "text/x-python",
   "name": "python",
   "nbconvert_exporter": "python",
   "pygments_lexer": "ipython3",
   "version": "3.7.6"
  }
 },
 "nbformat": 4,
 "nbformat_minor": 4
}
